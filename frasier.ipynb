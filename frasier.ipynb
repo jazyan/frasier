{
 "cells": [
  {
   "cell_type": "markdown",
   "metadata": {},
   "source": [
    "# Frasier Analysis\n",
    "\n",
    "I recently stumbled on [this post](https://www.reddit.com/r/dataisbeautiful/comments/8a4gbr/the_office_characters_most_distinguishing_words_oc/) on /r/dataisbeautiful, and, as I'm a big _Frasier_ fan, was determined to do similar analysis but for _Frasier_ characters. Luckily, there's a magnificent site [here](http://www.kacl780.net/frasier/transcripts/) which has transcripts of ALL _Frasier_ episodes. First, let's get all the URLs to the transcripts."
   ]
  },
  {
   "cell_type": "markdown",
   "metadata": {},
   "source": [
    "I next use Beautiful Soup to convert the string html_str to an HTML tree."
   ]
  },
  {
   "cell_type": "code",
   "execution_count": 48,
   "metadata": {},
   "outputs": [
    {
     "name": "stdout",
     "output_type": "stream",
     "text": [
      "['http://www.kacl780.net/frasier/transcripts/season_1/episode_1/the_good_son.html', 'http://www.kacl780.net/frasier/transcripts/season_1/episode_2/space_quest.html', 'http://www.kacl780.net/frasier/transcripts/season_1/episode_3/dinner_at_eight.html', 'http://www.kacl780.net/frasier/transcripts/season_1/episode_4/i_hate_frasier_crane.html', 'http://www.kacl780.net/frasier/transcripts/season_1/episode_5/heres_looking_at_you.html', 'http://www.kacl780.net/frasier/transcripts/season_1/episode_6/the_crucible.html', 'http://www.kacl780.net/frasier/transcripts/season_1/episode_7/call_me_irresponsible.html', 'http://www.kacl780.net/frasier/transcripts/season_1/episode_8/beloved_infidel.html', 'http://www.kacl780.net/frasier/transcripts/season_1/episode_9/selling_out.html', 'http://www.kacl780.net/frasier/transcripts/season_1/episode_10/oops.html', 'http://www.kacl780.net/frasier/transcripts/season_1/episode_11/death_becomes_him.html', 'http://www.kacl780.net/frasier/transcripts/season_1/episode_12/miracle_on_3rd_or_4th_street.html', 'http://www.kacl780.net/frasier/transcripts/season_1/episode_13/guess_whos_coming_to_breakfast.html', 'http://www.kacl780.net/frasier/transcripts/season_1/episode_14/cant_buy_me_love.html', 'http://www.kacl780.net/frasier/transcripts/season_1/episode_15/you_cant_tell_a_crook_by_his_cover.html', 'http://www.kacl780.net/frasier/transcripts/season_1/episode_16/the_show_where_lilith_comes_back.html', 'http://www.kacl780.net/frasier/transcripts/season_1/episode_17/a_mid_winter_nights_dream.html', 'http://www.kacl780.net/frasier/transcripts/season_1/episode_18/and_the_whimper_is.html', 'http://www.kacl780.net/frasier/transcripts/season_1/episode_19/give_him_the_chair.html', 'http://www.kacl780.net/frasier/transcripts/season_1/episode_20/fortysomething.html', 'http://www.kacl780.net/frasier/transcripts/season_1/episode_21/travels_with_martin.html', 'http://www.kacl780.net/frasier/transcripts/season_1/episode_22/author_author.html', 'http://www.kacl780.net/frasier/transcripts/season_1/episode_23/frasier_cranes_day_off.html', 'http://www.kacl780.net/frasier/transcripts/season_1/episode_24/my_coffee_with_niles.html', 'http://www.kacl780.net/frasier/transcripts/season_2/episode_1/slow_tango_in_south_seattle.html', 'http://www.kacl780.net/frasier/transcripts/season_2/episode_2/the_unkindest_cut_of_all.html', 'http://www.kacl780.net/frasier/transcripts/season_2/episode_3/the_matchmaker.html', 'http://www.kacl780.net/frasier/transcripts/season_2/episode_4/flour_child.html', 'http://www.kacl780.net/frasier/transcripts/season_2/episode_5/dukes_we_hardly_knew_ye.html', 'http://www.kacl780.net/frasier/transcripts/season_2/episode_6/the_botched_langauge_of_the_cranes.html', 'http://www.kacl780.net/frasier/transcripts/season_2/episode_7/the_candidate.html', 'http://www.kacl780.net/frasier/transcripts/season_2/episode_8/adventures_in_paradise_1.html', 'http://www.kacl780.net/frasier/transcripts/season_2/episode_9/adventures_in_paradise_2.html', 'http://www.kacl780.net/frasier/transcripts/season_2/episode_10/burying_a_grudge.html', 'http://www.kacl780.net/frasier/transcripts/season_2/episode_11/seat_of_power.html', 'http://www.kacl780.net/frasier/transcripts/season_2/episode_12/roz_in_the_doghouse.html', 'http://www.kacl780.net/frasier/transcripts/season_2/episode_13/retirement_is_murder.html', 'http://www.kacl780.net/frasier/transcripts/season_2/episode_14/fool_me_once_shame_on_you.html', 'http://www.kacl780.net/frasier/transcripts/season_2/episode_15/you_scratch_my_book.html', 'http://www.kacl780.net/frasier/transcripts/season_2/episode_16/the_show_where_sam_shows_up.html', 'http://www.kacl780.net/frasier/transcripts/season_2/episode_17/daphnes_room.html', 'http://www.kacl780.net/frasier/transcripts/season_2/episode_18/the_club.html', 'http://www.kacl780.net/frasier/transcripts/season_2/episode_19/someone_to_watch_over_me.html', 'http://www.kacl780.net/frasier/transcripts/season_2/episode_20/breaking_the_ice.html', 'http://www.kacl780.net/frasier/transcripts/season_2/episode_21/an_affair_to_forget.html', 'http://www.kacl780.net/frasier/transcripts/season_2/episode_22/agents_in_america_part_iii.html', 'http://www.kacl780.net/frasier/transcripts/season_2/episode_23/the_innkeepers.html', 'http://www.kacl780.net/frasier/transcripts/season_2/episode_24/dark_victory.html', 'http://www.kacl780.net/frasier/transcripts/season_3/episode_1/shes_the_boss.html', 'http://www.kacl780.net/frasier/transcripts/season_3/episode_2/shrink_rap.html', 'http://www.kacl780.net/frasier/transcripts/season_3/episode_3/martin_does_it_his_way.html', 'http://www.kacl780.net/frasier/transcripts/season_3/episode_4/leapin_lizards.html', 'http://www.kacl780.net/frasier/transcripts/season_3/episode_5/kisses_sweeter_than_wine.html', 'http://www.kacl780.net/frasier/transcripts/season_3/episode_6/sleeping_with_the_enemy.html', 'http://www.kacl780.net/frasier/transcripts/season_3/episode_7/the_adventures_of_bad_boy_and_dirty_girl.html', 'http://www.kacl780.net/frasier/transcripts/season_3/episode_8/the_last_time_i_saw_maris.html', 'http://www.kacl780.net/frasier/transcripts/season_3/episode_9/frasier_grinch.html', 'http://www.kacl780.net/frasier/transcripts/season_3/episode_10/its_hard_to_say_goodbye_if_you_wont_leave.html', 'http://www.kacl780.net/frasier/transcripts/season_3/episode_11/the_friend.html', 'http://www.kacl780.net/frasier/transcripts/season_3/episode_12/come_lie_with_me.html', 'http://www.kacl780.net/frasier/transcripts/season_3/episode_13/moon_dance.html', 'http://www.kacl780.net/frasier/transcripts/season_3/episode_14/the_show_where_diane_comes_back.html', 'http://www.kacl780.net/frasier/transcripts/season_3/episode_15/a_word_to_the_wiseguy.html', 'http://www.kacl780.net/frasier/transcripts/season_3/episode_16/look_before_you_leap.html', 'http://www.kacl780.net/frasier/transcripts/season_3/episode_17/high_crane_drifter.html', 'http://www.kacl780.net/frasier/transcripts/season_3/episode_18/chess_pains.html', 'http://www.kacl780.net/frasier/transcripts/season_3/episode_19/crane_vs_crane.html', 'http://www.kacl780.net/frasier/transcripts/season_3/episode_20/police_story.html', 'http://www.kacl780.net/frasier/transcripts/season_3/episode_21/where_theres_smoke_theres_fired.html', 'http://www.kacl780.net/frasier/transcripts/season_3/episode_22/frasier_loves_roz.html', 'http://www.kacl780.net/frasier/transcripts/season_3/episode_23/the_focus_group.html', 'http://www.kacl780.net/frasier/transcripts/season_3/episode_24/you_can_go_home_again.html', 'http://www.kacl780.net/frasier/transcripts/season_4/episode_1/the_two_mrs_cranes.html', 'http://www.kacl780.net/frasier/transcripts/season_4/episode_2/love_bites_dog.html', 'http://www.kacl780.net/frasier/transcripts/season_4/episode_3/the_impossible_dream.html', 'http://www.kacl780.net/frasier/transcripts/season_4/episode_4/a_cranes_critique.html', 'http://www.kacl780.net/frasier/transcripts/season_4/episode_5/head_game.html', 'http://www.kacl780.net/frasier/transcripts/season_4/episode_6/mixed_doubles.html', 'http://www.kacl780.net/frasier/transcripts/season_4/episode_7/a_lilith_thanksgiving.html', 'http://www.kacl780.net/frasier/transcripts/season_4/episode_8/our_father_whose_art_aint_heaven.html', 'http://www.kacl780.net/frasier/transcripts/season_4/episode_9/dad_loves_sherry_the_boys_just_whine.html', 'http://www.kacl780.net/frasier/transcripts/season_4/episode_10/liar_liar.html', 'http://www.kacl780.net/frasier/transcripts/season_4/episode_11/three_days_of_the_condo.html', 'http://www.kacl780.net/frasier/transcripts/season_4/episode_12/death_and_the_dog.html', 'http://www.kacl780.net/frasier/transcripts/season_4/episode_13/four_for_the_seesaw.html', 'http://www.kacl780.net/frasier/transcripts/season_4/episode_14/to_kill_a_talking_bird.html', 'http://www.kacl780.net/frasier/transcripts/season_4/episode_15/rozs_krantz_amp_gouldenstein_are_dead.html', 'http://www.kacl780.net/frasier/transcripts/season_4/episode_16/the_unnatural.html', 'http://www.kacl780.net/frasier/transcripts/season_4/episode_17/rozs_turn.html', 'http://www.kacl780.net/frasier/transcripts/season_4/episode_18/ham_radio.html', 'http://www.kacl780.net/frasier/transcripts/season_4/episode_19/three_dates_and_a_break_up_1.html', 'http://www.kacl780.net/frasier/transcripts/season_4/episode_20/three_dates_and_a_break_up_2.html', 'http://www.kacl780.net/frasier/transcripts/season_4/episode_21/daphne_hates_sherry.html', 'http://www.kacl780.net/frasier/transcripts/season_4/episode_22/are_you_being_served.html', 'http://www.kacl780.net/frasier/transcripts/season_4/episode_23/ask_me_no_questions.html', 'http://www.kacl780.net/frasier/transcripts/season_4/episode_24/odd_man_out.html', 'http://www.kacl780.net/frasier/transcripts/season_5/episode_1/frasiers_imaginary_friend.html', 'http://www.kacl780.net/frasier/transcripts/season_5/episode_2/the_gift_horse.html', 'http://www.kacl780.net/frasier/transcripts/season_5/episode_3/halloween.html', 'http://www.kacl780.net/frasier/transcripts/season_5/episode_4/the_kid.html', 'http://www.kacl780.net/frasier/transcripts/season_5/episode_5/the_1000th_show.html', 'http://www.kacl780.net/frasier/transcripts/season_5/episode_6/voyage_of_the_damned.html', 'http://www.kacl780.net/frasier/transcripts/season_5/episode_7/my_fair_frasier.html', 'http://www.kacl780.net/frasier/transcripts/season_5/episode_8/desperately_seeking_closure.html', 'http://www.kacl780.net/frasier/transcripts/season_5/episode_9/perspectives_on_christmas.html', 'http://www.kacl780.net/frasier/transcripts/season_5/episode_10/where_every_bloke_knows_your_name.html', 'http://www.kacl780.net/frasier/transcripts/season_5/episode_11/aint_nobodys_business_if_i_do.html', 'http://www.kacl780.net/frasier/transcripts/season_5/episode_12/the_zoo_story.html', 'http://www.kacl780.net/frasier/transcripts/season_5/episode_13/the_maris_counselor.html', 'http://www.kacl780.net/frasier/transcripts/season_5/episode_14/the_ski_lodge.html', 'http://www.kacl780.net/frasier/transcripts/season_5/episode_15/room_service.html', 'http://www.kacl780.net/frasier/transcripts/season_5/episode_16/beware_of_greeks.html', 'http://www.kacl780.net/frasier/transcripts/season_5/episode_17/the_perfect_guy.html', 'http://www.kacl780.net/frasier/transcripts/season_5/episode_18/bad_dog.html', 'http://www.kacl780.net/frasier/transcripts/season_5/episode_19/frasier_gotta_have_it.html', 'http://www.kacl780.net/frasier/transcripts/season_5/episode_20/first_date.html', 'http://www.kacl780.net/frasier/transcripts/season_5/episode_21/roz_and_the_schnoz.html', 'http://www.kacl780.net/frasier/transcripts/season_5/episode_22/the_life_of_the_party.html', 'http://www.kacl780.net/frasier/transcripts/season_5/episode_23/party_party.html', 'http://www.kacl780.net/frasier/transcripts/season_5/episode_24/sweet_dreams.html', 'http://www.kacl780.net/frasier/transcripts/season_6/episode_1/good_grief.html', 'http://www.kacl780.net/frasier/transcripts/season_6/episode_2/frasiers_curse.html', 'http://www.kacl780.net/frasier/transcripts/season_6/episode_3/dial_m_for_martin.html', 'http://www.kacl780.net/frasier/transcripts/season_6/episode_4/hot_ticket.html', 'http://www.kacl780.net/frasier/transcripts/season_6/episode_5/first_do_no_harm.html', 'http://www.kacl780.net/frasier/transcripts/season_6/episode_6/secret_admirer.html', 'http://www.kacl780.net/frasier/transcripts/season_6/episode_7/how_to_bury_a_millionaire.html', 'http://www.kacl780.net/frasier/transcripts/season_6/episode_8/the_seal_who_came_to_dinner.html', 'http://www.kacl780.net/frasier/transcripts/season_6/episode_9/roz_a_loan.html', 'http://www.kacl780.net/frasier/transcripts/season_6/episode_10/merry_christmas_mrs_moskowitz.html', 'http://www.kacl780.net/frasier/transcripts/season_6/episode_11/good_samaritan.html', 'http://www.kacl780.net/frasier/transcripts/season_6/episode_12/our_parents_ourselves.html', 'http://www.kacl780.net/frasier/transcripts/season_6/episode_13/the_show_where_woody_shows_up.html', 'http://www.kacl780.net/frasier/transcripts/season_6/episode_14/three_valentines.html', 'http://www.kacl780.net/frasier/transcripts/season_6/episode_15/to_tell_the_truth.html', 'http://www.kacl780.net/frasier/transcripts/season_6/episode_16/decoys.html', 'http://www.kacl780.net/frasier/transcripts/season_6/episode_17/dinner_party.html', 'http://www.kacl780.net/frasier/transcripts/season_6/episode_18/taps_at_the_montana.html', 'http://www.kacl780.net/frasier/transcripts/season_6/episode_19/iq.html', 'http://www.kacl780.net/frasier/transcripts/season_6/episode_20/dr_nora.html', 'http://www.kacl780.net/frasier/transcripts/season_6/episode_21/when_a_man_loves_two_women.html', 'http://www.kacl780.net/frasier/transcripts/season_6/episode_22/visions_of_daphne.html', 'http://www.kacl780.net/frasier/transcripts/season_6/episode_23/shut_out_in_seattle_1.html', 'http://www.kacl780.net/frasier/transcripts/season_6/episode_24/shut_out_in_seattle_2.html', 'http://www.kacl780.net/frasier/transcripts/season_7/episode_1/momma_mia.html', 'http://www.kacl780.net/frasier/transcripts/season_7/episode_2/father_of_the_bride.html', 'http://www.kacl780.net/frasier/transcripts/season_7/episode_3/radio_wars.html', 'http://www.kacl780.net/frasier/transcripts/season_7/episode_4/everyones_a_critic.html', 'http://www.kacl780.net/frasier/transcripts/season_7/episode_5/the_dog_that_rocks_the_cradle.html', 'http://www.kacl780.net/frasier/transcripts/season_7/episode_6/rivals.html', 'http://www.kacl780.net/frasier/transcripts/season_7/episode_7/a_tsar_is_born.html', 'http://www.kacl780.net/frasier/transcripts/season_7/episode_8/the_late_dr_crane.html', 'http://www.kacl780.net/frasier/transcripts/season_7/episode_9/the_apparent_trap.html', 'http://www.kacl780.net/frasier/transcripts/season_7/episode_10/back_talk_1.html', 'http://www.kacl780.net/frasier/transcripts/season_7/episode_11/the_fight_before_christmas_2.html', 'http://www.kacl780.net/frasier/transcripts/season_7/episode_12/rdwrer.html', 'http://www.kacl780.net/frasier/transcripts/season_7/episode_13/theyre_playing_our_song.html', 'http://www.kacl780.net/frasier/transcripts/season_7/episode_14/big_crane_on_campus.html', 'http://www.kacl780.net/frasier/transcripts/season_7/episode_15/out_with_dad.html', 'http://www.kacl780.net/frasier/transcripts/season_7/episode_16/something_about_dr_mary.html', 'http://www.kacl780.net/frasier/transcripts/season_7/episode_17/whine_club.html', 'http://www.kacl780.net/frasier/transcripts/season_7/episode_18/hot_pursuit.html', 'http://www.kacl780.net/frasier/transcripts/season_7/episode_19/morning_becomes_entertainment.html', 'http://www.kacl780.net/frasier/transcripts/season_7/episode_20/to_thine_old_self_be_true.html', 'http://www.kacl780.net/frasier/transcripts/season_7/episode_21/the_three_faces_of_frasier.html', 'http://www.kacl780.net/frasier/transcripts/season_7/episode_22/dark_side_of_the_moon.html', 'http://www.kacl780.net/frasier/transcripts/season_7/episode_23/something_borrowed_someone_blue_1.html', 'http://www.kacl780.net/frasier/transcripts/season_7/episode_24/something_borrowed_someone_blue_2.html', 'http://www.kacl780.net/frasier/transcripts/season_8/episode_1/and_the_dish_ran_away_with_the_spoon_1.html', 'http://www.kacl780.net/frasier/transcripts/season_8/episode_2/and_the_dish_ran_away_with_the_spoon_2.html', 'http://www.kacl780.net/frasier/transcripts/season_8/episode_3/the_bad_son.html', 'http://www.kacl780.net/frasier/transcripts/season_8/episode_4/the_great_crane_robbery.html', 'http://www.kacl780.net/frasier/transcripts/season_8/episode_5/taking_liberties.html', 'http://www.kacl780.net/frasier/transcripts/season_8/episode_6/legal_tender_love_and_care.html', 'http://www.kacl780.net/frasier/transcripts/season_8/episode_7/the_new_friend.html', 'http://www.kacl780.net/frasier/transcripts/season_8/episode_8/mary_christmas.html', 'http://www.kacl780.net/frasier/transcripts/season_8/episode_9/frasiers_edge.html', 'http://www.kacl780.net/frasier/transcripts/season_8/episode_10/cranes_unplugged.html', 'http://www.kacl780.net/frasier/transcripts/season_8/episode_11/motor_skills.html', 'http://www.kacl780.net/frasier/transcripts/season_8/episode_12/the_show_must_go_off.html', 'http://www.kacl780.net/frasier/transcripts/season_8/episode_13/sliding_frasiers.html', 'http://www.kacl780.net/frasier/transcripts/season_8/episode_14/hungry_heart.html', 'http://www.kacl780.net/frasier/transcripts/season_8/episode_15/hooping_cranes.html', 'http://www.kacl780.net/frasier/transcripts/season_8/episode_16/docu_drama.html', 'http://www.kacl780.net/frasier/transcripts/season_8/episode_17/it_takes_two_to_tangle.html', 'http://www.kacl780.net/frasier/transcripts/season_8/episode_18/forgotten_but_not_gone.html', 'http://www.kacl780.net/frasier/transcripts/season_8/episode_19/daphne_returns.html', 'http://www.kacl780.net/frasier/transcripts/season_8/episode_20/the_wizard_and_roz.html', 'http://www.kacl780.net/frasier/transcripts/season_8/episode_21/semi_decent_proposal_1.html', 'http://www.kacl780.net/frasier/transcripts/season_8/episode_22/a_passing_fancy_2.html', 'http://www.kacl780.net/frasier/transcripts/season_8/episode_23/a_day_in_may.html', 'http://www.kacl780.net/frasier/transcripts/season_8/episode_24/cranes_go_caribbean.html', 'http://www.kacl780.net/frasier/transcripts/season_9/episode_1/don_juan_in_hell_1.html', 'http://www.kacl780.net/frasier/transcripts/season_9/episode_2/don_juan_in_hell_2.html', 'http://www.kacl780.net/frasier/transcripts/season_9/episode_3/the_first_temptation_of_daphne.html', 'http://www.kacl780.net/frasier/transcripts/season_9/episode_4/the_return_of_martin_crane.html', 'http://www.kacl780.net/frasier/transcripts/season_9/episode_5/love_stinks.html', 'http://www.kacl780.net/frasier/transcripts/season_9/episode_6/room_full_of_heroes.html', 'http://www.kacl780.net/frasier/transcripts/season_9/episode_7/bla_z_boy.html', 'http://www.kacl780.net/frasier/transcripts/season_9/episode_8/the_two_hundredth.html', 'http://www.kacl780.net/frasier/transcripts/season_9/episode_9/sharing_kirby.html', 'http://www.kacl780.net/frasier/transcripts/season_9/episode_10/junior_agent.html', 'http://www.kacl780.net/frasier/transcripts/season_9/episode_11/bully_for_martin.html', 'http://www.kacl780.net/frasier/transcripts/season_9/episode_12/mother_load_1.html', 'http://www.kacl780.net/frasier/transcripts/season_9/episode_13/mother_load_2.html', 'http://www.kacl780.net/frasier/transcripts/season_9/episode_14/juvenilia.html', 'http://www.kacl780.net/frasier/transcripts/season_9/episode_15/the_proposal.html', 'http://www.kacl780.net/frasier/transcripts/season_9/episode_16/wheels_of_fortune.html', 'http://www.kacl780.net/frasier/transcripts/season_9/episode_17/three_blind_dates.html', 'http://www.kacl780.net/frasier/transcripts/season_9/episode_18/war_of_the_words.html', 'http://www.kacl780.net/frasier/transcripts/season_9/episode_19/deathtrap.html', 'http://www.kacl780.net/frasier/transcripts/season_9/episode_20/the_love_you_fake.html', 'http://www.kacl780.net/frasier/transcripts/season_9/episode_21/cheerful_goodbyes.html', 'http://www.kacl780.net/frasier/transcripts/season_9/episode_22/frasier_has_spokane.html', 'http://www.kacl780.net/frasier/transcripts/season_9/episode_23/the_guilt_trippers.html', 'http://www.kacl780.net/frasier/transcripts/season_9/episode_24/moons_over_seattle.html', 'http://www.kacl780.net/frasier/transcripts/season_10/episode_1/the_ring_cycle.html', 'http://www.kacl780.net/frasier/transcripts/season_10/episode_2/enemy_at_the_gate.html', 'http://www.kacl780.net/frasier/transcripts/season_10/episode_3/proxy_prexy.html', 'http://www.kacl780.net/frasier/transcripts/season_10/episode_4/kissing_cousin.html', 'http://www.kacl780.net/frasier/transcripts/season_10/episode_5/tales_from_the_crypt.html', 'http://www.kacl780.net/frasier/transcripts/season_10/episode_6/star_mitzvah.html', 'http://www.kacl780.net/frasier/transcripts/season_10/episode_7/bristle_while_you_work_1.html', 'http://www.kacl780.net/frasier/transcripts/season_10/episode_8/rooms_with_a_view_2.html', 'http://www.kacl780.net/frasier/transcripts/season_10/episode_9/dont_go_breaking_my_heart_3.html', 'http://www.kacl780.net/frasier/transcripts/season_10/episode_10/we_two_kings.html', 'http://www.kacl780.net/frasier/transcripts/season_10/episode_11/door_jam.html', 'http://www.kacl780.net/frasier/transcripts/season_10/episode_12/the_harassed.html', 'http://www.kacl780.net/frasier/transcripts/season_10/episode_13/lilith_needs_a_favor.html', 'http://www.kacl780.net/frasier/transcripts/season_10/episode_14/daphne_does_dinner.html', 'http://www.kacl780.net/frasier/transcripts/season_10/episode_15/trophy_girlfriend.html', 'http://www.kacl780.net/frasier/transcripts/season_10/episode_16/fraternal_schwinns.html', 'http://www.kacl780.net/frasier/transcripts/season_10/episode_17/kenny_on_the_couch.html', 'http://www.kacl780.net/frasier/transcripts/season_10/episode_18/roe_to_perdition.html', 'http://www.kacl780.net/frasier/transcripts/season_10/episode_19/some_assembly_required.html', 'http://www.kacl780.net/frasier/transcripts/season_10/episode_20/farewell_nervosa.html', 'http://www.kacl780.net/frasier/transcripts/season_10/episode_21/the_devil_and_dr_phil.html', 'http://www.kacl780.net/frasier/transcripts/season_10/episode_22/fathers_and_sons.html', 'http://www.kacl780.net/frasier/transcripts/season_10/episode_23/analyzed_kiss.html', 'http://www.kacl780.net/frasier/transcripts/season_10/episode_24/a_new_position_for_roz.html', 'http://www.kacl780.net/frasier/transcripts/season_11/episode_1/no_sex_please_were_skittish.html', 'http://www.kacl780.net/frasier/transcripts/season_11/episode_2/a_man_a_plan_and_a_gal_julia.html', 'http://www.kacl780.net/frasier/transcripts/season_11/episode_3/the_doctor_is_out.html', 'http://www.kacl780.net/frasier/transcripts/season_11/episode_4/the_babysitter.html', 'http://www.kacl780.net/frasier/transcripts/season_11/episode_5/the_placeholder.html', 'http://www.kacl780.net/frasier/transcripts/season_11/episode_6/im_listening.html', 'http://www.kacl780.net/frasier/transcripts/season_11/episode_7/maris_returns_1.html', 'http://www.kacl780.net/frasier/transcripts/season_11/episode_8/murder_most_maris_2.html', 'http://www.kacl780.net/frasier/transcripts/season_11/episode_9/guns_n_neuroses.html', 'http://www.kacl780.net/frasier/transcripts/season_11/episode_10/sea_bee_jeebies.html', 'http://www.kacl780.net/frasier/transcripts/season_11/episode_11/high_holidays.html', 'http://www.kacl780.net/frasier/transcripts/season_11/episode_12/frasier_lite.html', 'http://www.kacl780.net/frasier/transcripts/season_11/episode_13/the_ann_who_came_to_dinner.html', 'http://www.kacl780.net/frasier/transcripts/season_11/episode_14/freudian_sleep.html', 'http://www.kacl780.net/frasier/transcripts/season_11/episode_15/caught_in_the_act.html', 'http://www.kacl780.net/frasier/transcripts/season_11/episode_16/boo_a_k_a_im_with_her.html', 'http://www.kacl780.net/frasier/transcripts/season_11/episode_17/coots_and_ladders.html', 'http://www.kacl780.net/frasier/transcripts/season_11/episode_18/match_game.html', 'http://www.kacl780.net/frasier/transcripts/season_11/episode_19/miss_right_now.html', 'http://www.kacl780.net/frasier/transcripts/season_11/episode_20/and_frasier_makes_three.html', 'http://www.kacl780.net/frasier/transcripts/season_11/episode_21/detour.html', 'http://www.kacl780.net/frasier/transcripts/season_11/episode_22/crock_tales.html', 'http://www.kacl780.net/frasier/transcripts/season_11/episode_23/goodnight_seattle_1.html', 'http://www.kacl780.net/frasier/transcripts/season_11/episode_24/goodnight_seattle_2.html']\n"
     ]
    }
   ],
   "source": [
    "import urllib.request\n",
    "from bs4 import BeautifulSoup\n",
    "\n",
    "def url_to_soup(url):\n",
    "    fp = urllib.request.urlopen(url)\n",
    "    html_str = fp.read()\n",
    "    fp.close()\n",
    "    return BeautifulSoup(html_str, 'html.parser') \n",
    "\n",
    "main_page_soup = url_to_soup(\"http://www.kacl780.net/frasier/transcripts/\")\n",
    "urls = [a.get('href') for a in main_page_soup.find_all('a')]\n",
    "urls = ['http://www.kacl780.net' + u for u in urls if 'episode' in u]\n",
    "\n",
    "print(urls)"
   ]
  },
  {
   "cell_type": "markdown",
   "metadata": {},
   "source": [
    "The transcript is formatted such that each character's lines are prefaced by their name in __bold__. I thus find all the elements with tag 'b', and get all the text in between. Of course, there is some bolded text that isn't a character's lines, but that will be filtered out later."
   ]
  },
  {
   "cell_type": "code",
   "execution_count": 131,
   "metadata": {},
   "outputs": [
    {
     "name": "stdout",
     "output_type": "stream",
     "text": [
      "539\n",
      "defaultdict(<class 'int'>, {'daphne': 14, 'frasier': 85, 'martin': 47, 'roz': 9, 'niles': 10}) defaultdict(<class 'int'>, {'daphne': 319, 'frasier': 1530, 'martin': 536, 'roz': 146, 'niles': 132})\n",
      "6\n"
     ]
    }
   ],
   "source": [
    "from string import punctuation\n",
    "import re\n",
    "from collections import defaultdict\n",
    "\n",
    "def clean_string(S):\n",
    "    return re.sub('['+punctuation+']', '', S).strip().lower()\n",
    "\n",
    "main_characters = set(['frasier', 'niles', 'martin', 'roz', 'daphne'])\n",
    "d_num_lines = defaultdict(int)\n",
    "d_num_words = defaultdict(int)\n",
    "d_overall_word_count = defaultdict(int)\n",
    "\n",
    "def url_to_lines_dict(url):\n",
    "    soup = url_to_soup(url)\n",
    "    bold_tags = soup.find_all('b')\n",
    "    character_d = defaultdict(dict)\n",
    "    for bt in bold_tags:\n",
    "        if bt.string == None:\n",
    "            continue\n",
    "        character = clean_string(bt.string)\n",
    "        if character not in main_characters:\n",
    "            continue\n",
    "        #print(character)\n",
    "        ns = bt.next_sibling\n",
    "        words_in_line = []\n",
    "        # keep iterating until we hit the next b tag\n",
    "        while ns != None and ns.name != 'b':\n",
    "            # dialogue has name == None, while other cues (stage directions, tone) are italicized\n",
    "            if ns.name == None:\n",
    "                words_in_line += clean_string(ns.string).split()\n",
    "            ns = ns.next_sibling\n",
    "        d_character_word_count = character_d[character]\n",
    "        for word in words_in_line:\n",
    "            d_overall_word_count[word] += 1\n",
    "            if word not in d_character_word_count:\n",
    "                d_character_word_count[word] = 0\n",
    "            d_character_word_count[word] += 1\n",
    "        character_d[character] = d_character_word_count\n",
    "        d_num_words[character] += len(words_in_line)\n",
    "        d_num_lines[character] += 1\n",
    "    return character_d\n",
    "\n",
    "d = url_to_lines_dict(urls[1])\n",
    "print(len(d['frasier']))\n",
    "print(d_num_lines, d_num_words)\n",
    "# number of times anyone says Frasier\n",
    "print(d_overall_word_count['frasier'])"
   ]
  },
  {
   "cell_type": "code",
   "execution_count": 132,
   "metadata": {},
   "outputs": [
    {
     "name": "stdout",
     "output_type": "stream",
     "text": [
      "2167\n",
      "15796\n"
     ]
    }
   ],
   "source": [
    "d = defaultdict(dict)\n",
    "for u in urls:\n",
    "    for character, word_count_d in url_to_lines_dict(u).items():\n",
    "        character_word_count_d = d[character]\n",
    "        for word, count in word_count_d.items():\n",
    "            if word not in character_word_count_d:\n",
    "                character_word_count_d[word] = 0\n",
    "            character_word_count_d[word] += count\n",
    "\n",
    "# number of times Frasier says 'Niles'\n",
    "print(d['frasier']['niles'])\n",
    "print(len(d['frasier']))"
   ]
  },
  {
   "cell_type": "code",
   "execution_count": 143,
   "metadata": {},
   "outputs": [
    {
     "name": "stdout",
     "output_type": "stream",
     "text": [
      "{'where', 'aren', 'wont', 'further', 'between', 'once', 'couldnt', 'own', 'ours', 'does', 'mustnt', 'before', 'my', 'itself', 'youll', 'they', 'such', 'until', 'won', 'being', 'hadn', 'am', 'so', 'only', 'in', 'hasnt', 'had', 'against', 'you', 'isn', 'most', 'again', 'haven', 'couldn', 'if', 'as', 'doesn', 'shan', 'both', 'have', 'then', 'all', 'youre', 'same', 'those', 'i', 'through', 'is', 'did', 'wasnt', 'doesnt', 'any', 'm', 'below', 'why', 'hasn', 'how', 'o', 'youve', 'himself', 'are', 'with', 'from', 'ma', 'your', 'nor', 've', 'will', 'shes', 'too', 'yourself', 'into', 'because', 'were', 'him', 'than', 'after', 'out', 'doing', 'mightnt', 'not', 'about', 'or', 'whom', 'these', 's', 'of', 'be', 'd', 'weren', 't', 'herself', 'shant', 'theirs', 'me', 'this', 'it', 'he', 'themselves', 'myself', 'needn', 'her', 'should', 'hadnt', 'do', 're', 'wouldn', 'been', 'down', 'over', 'shouldn', 'youd', 'while', 'arent', 'no', 'few', 'its', 'which', 'under', 'for', 'can', 'each', 'when', 'the', 'here', 'thatll', 'was', 'll', 'havent', 'a', 'we', 'there', 'an', 'wasn', 'by', 'y', 'to', 'shouldnt', 'don', 'but', 'just', 'has', 'isnt', 'now', 'off', 'wouldnt', 'dont', 'and', 'what', 'during', 'werent', 'ain', 'didnt', 'that', 'who', 'shouldve', 'up', 'on', 'very', 'other', 'our', 'she', 'more', 'mightn', 'some', 'neednt', 'mustn', 'hers', 'ourselves', 'having', 'at', 'above', 'yourselves', 'didn', 'yours', 'their', 'them', 'his'}\n"
     ]
    }
   ],
   "source": [
    "from nltk.corpus import stopwords\n",
    "\n",
    "stop_words = set(clean_string(sw) for sw in stopwords.words('english'))\n",
    "print(stop_words)\n",
    "\n",
    "for character, word_count_d in d.items():\n",
    "    for sw in stop_words:\n",
    "        if sw in word_count_d:\n",
    "            del word_count_d[sw]"
   ]
  },
  {
   "cell_type": "code",
   "execution_count": 145,
   "metadata": {},
   "outputs": [
    {
     "name": "stdout",
     "output_type": "stream",
     "text": [
      "647631\n",
      "roz [('right', 210), ('one', 212), ('go', 217), ('really', 220), ('like', 239), ('get', 250), ('know', 406), ('well', 455), ('im', 464), ('frasier', 510)]\n",
      "martin [('thats', 415), ('got', 439), ('like', 483), ('right', 507), ('get', 511), ('hey', 514), ('yeah', 652), ('im', 709), ('know', 797), ('well', 1120)]\n",
      "daphne [('ill', 234), ('yes', 238), ('get', 255), ('right', 290), ('like', 313), ('know', 379), ('dr', 484), ('im', 560), ('crane', 564), ('well', 581)]\n",
      "frasier [('like', 959), ('thats', 959), ('see', 1004), ('roz', 1312), ('right', 1669), ('dad', 1731), ('yes', 2093), ('niles', 2167), ('know', 2295), ('im', 2487)]\n",
      "niles [('going', 434), ('one', 436), ('right', 505), ('daphne', 531), ('dad', 621), ('yes', 652), ('know', 654), ('frasier', 947), ('im', 1072), ('well', 1393)]\n"
     ]
    }
   ],
   "source": [
    "total_words = sum(d_num_words.values())\n",
    "print(total_words)\n",
    "\n",
    "for c in main_characters:\n",
    "    sorted_x = sorted(d[c].items(), key=lambda kv: kv[1])\n",
    "    ten_top_values = sorted_x[-10:]\n",
    "    print(c, ten_top_values)\n",
    "# can delete top values as alternative to stop words"
   ]
  },
  {
   "cell_type": "code",
   "execution_count": 151,
   "metadata": {},
   "outputs": [
    {
     "name": "stdout",
     "output_type": "stream",
     "text": [
      "roz\n",
      "1 russell\n",
      "2 kirkland\n",
      "14 four\n",
      "83 yes\n",
      "14 cut\n",
      "59 crane\n",
      "46 dr\n",
      "67 line\n",
      "26 news\n",
      "11 thirty\n",
      "--------------------\n",
      "martin\n",
      "483 like\n",
      "179 guys\n",
      "797 know\n",
      "439 got\n",
      "511 get\n",
      "1120 well\n",
      "514 hey\n",
      "221 eddie\n",
      "652 yeah\n",
      "147 fras\n",
      "--------------------\n",
      "daphne\n",
      "12 caught\n",
      "4 biscuit\n",
      "28 hand\n",
      "121 thank\n",
      "27 moon\n",
      "560 im\n",
      "99 nice\n",
      "175 hello\n",
      "564 crane\n",
      "484 dr\n",
      "--------------------\n",
      "frasier\n",
      "120 kenny\n",
      "643 please\n",
      "1312 roz\n",
      "2295 know\n",
      "1004 see\n",
      "1731 dad\n",
      "2093 yes\n",
      "2487 im\n",
      "2167 niles\n",
      "1669 right\n",
      "--------------------\n",
      "niles\n",
      "436 one\n",
      "654 know\n",
      "531 daphne\n",
      "621 dad\n",
      "434 going\n",
      "947 frasier\n",
      "343 maris\n",
      "1072 im\n",
      "1393 well\n",
      "652 yes\n",
      "--------------------\n"
     ]
    }
   ],
   "source": [
    "import heapq\n",
    "\n",
    "total_lines = sum(d_num_lines.values())\n",
    "\n",
    "for c in main_characters:\n",
    "    heap = []\n",
    "    weight = d_num_words[c] / total_words\n",
    "    weight2 = d_num_lines[c] / total_lines\n",
    "    for word, count in d[c].items():\n",
    "        word_freq_perc = (count**2) * weight2 / d_overall_word_count[word]\n",
    "        if len(heap) < 10:\n",
    "            heapq.heappush(heap, (word_freq_perc, count, word))\n",
    "        else:\n",
    "            wfp_low, c_low, w_low = heapq.heappop(heap)\n",
    "            if wfp < word_freq_perc:\n",
    "                wfp_low, c_low, w_low = word_freq_perc, count, word\n",
    "            heapq.heappush(heap, (wfp_low, c_low, w_low))\n",
    "    print(c)\n",
    "    for elt in heap:\n",
    "        print(elt[1], elt[2])\n",
    "    print('--------------------')"
   ]
  },
  {
   "cell_type": "code",
   "execution_count": null,
   "metadata": {},
   "outputs": [],
   "source": []
  }
 ],
 "metadata": {
  "kernelspec": {
   "display_name": "Python 3",
   "language": "python",
   "name": "python3"
  },
  "language_info": {
   "codemirror_mode": {
    "name": "ipython",
    "version": 3
   },
   "file_extension": ".py",
   "mimetype": "text/x-python",
   "name": "python",
   "nbconvert_exporter": "python",
   "pygments_lexer": "ipython3",
   "version": "3.7.2"
  }
 },
 "nbformat": 4,
 "nbformat_minor": 2
}
